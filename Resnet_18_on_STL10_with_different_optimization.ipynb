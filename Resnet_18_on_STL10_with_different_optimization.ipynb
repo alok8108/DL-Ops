{
  "cells": [
    {
      "cell_type": "code",
      "execution_count": null,
      "metadata": {
        "id": "zkN2O27ggi-E"
      },
      "outputs": [],
      "source": [
        "#Importing necessary parameters\n",
        "import torch\n",
        "import torch.nn as nn\n",
        "import torch.optim as optim\n",
        "from torch.optim import lr_scheduler\n",
        "import numpy as np\n",
        "import torchvision\n",
        "from torchvision import datasets, models, transforms\n",
        "import matplotlib.pyplot as plt\n"
      ]
    },
    {
      "cell_type": "code",
      "execution_count": null,
      "metadata": {
        "id": "VFLrldnWmMBc",
        "colab": {
          "base_uri": "https://localhost:8080/"
        },
        "outputId": "4aed1722-b2c7-4a6b-9390-8564c9e346c4"
      },
      "outputs": [
        {
          "output_type": "execute_result",
          "data": {
            "text/plain": [
              "device(type='cuda')"
            ]
          },
          "metadata": {},
          "execution_count": 85
        }
      ],
      "source": [
        "\n",
        "#Setting up the device agnoistic code\n",
        "device= torch.device(\"cuda\" if torch.cuda.is_available() else \"cpu\")\n",
        "device"
      ]
    },
    {
      "cell_type": "code",
      "execution_count": null,
      "metadata": {
        "id": "WpJN6uMtme91"
      },
      "outputs": [],
      "source": [
        "#Creating the necessary transforms.\n",
        "\n",
        "mean=np.array([0.485, 0.456, 0.406])\n",
        "std= np.array([0.229, 0.224, 0.225])\n",
        "\n",
        "train_transform = transforms.Compose([\n",
        "    transforms.ToTensor(),\n",
        "    transforms.Normalize(mean,std)\n",
        "])\n",
        "\n",
        "test_transform = transforms.Compose([\n",
        "    transforms.ToTensor(),\n",
        "    transforms.Normalize(mean,std)\n",
        "])"
      ]
    },
    {
      "cell_type": "code",
      "execution_count": null,
      "metadata": {
        "colab": {
          "base_uri": "https://localhost:8080/"
        },
        "id": "NrTSNaHznSQR",
        "outputId": "3a2c8b5f-7d7d-4698-cb56-409661519609"
      },
      "outputs": [
        {
          "output_type": "stream",
          "name": "stdout",
          "text": [
            "Files already downloaded and verified\n",
            "Files already downloaded and verified\n"
          ]
        }
      ],
      "source": [
        "\n",
        "#Importing the data\n",
        "train_data= torchvision.datasets.STL10(root='data',\n",
        "                                       split= \"train\",\n",
        "                                       download=True,\n",
        "                                       transform=train_transform)\n",
        "test_data= torchvision.datasets.STL10(root='data',\n",
        "                                      split='test',\n",
        "                                       download=True,\n",
        "                                       transform=test_transform)\n"
      ]
    },
    {
      "cell_type": "code",
      "execution_count": null,
      "metadata": {
        "colab": {
          "base_uri": "https://localhost:8080/"
        },
        "id": "Ur5WGMo7oCNE",
        "outputId": "ae9da557-bf0d-4850-c2de-4ea07c056139"
      },
      "outputs": [
        {
          "output_type": "execute_result",
          "data": {
            "text/plain": [
              "(5000, 8000)"
            ]
          },
          "metadata": {},
          "execution_count": 88
        }
      ],
      "source": [
        "len(train_data), len(test_data)"
      ]
    },
    {
      "cell_type": "code",
      "execution_count": null,
      "metadata": {
        "id": "Bbf0K5HtqTiu"
      },
      "outputs": [],
      "source": [
        "from torch.utils.data import DataLoader\n",
        "train_dataloader= DataLoader(dataset= train_data, batch_size=100, shuffle=True)\n",
        "test_dataloader= DataLoader(dataset= test_data, batch_size=100, shuffle=True)"
      ]
    },
    {
      "cell_type": "code",
      "execution_count": null,
      "metadata": {
        "colab": {
          "base_uri": "https://localhost:8080/"
        },
        "id": "XBifp7lLqdQa",
        "outputId": "64ae8787-edad-4211-d6f8-fdef2e1c88c6"
      },
      "outputs": [
        {
          "output_type": "stream",
          "name": "stderr",
          "text": [
            "/usr/local/lib/python3.8/dist-packages/torchvision/models/_utils.py:208: UserWarning: The parameter 'pretrained' is deprecated since 0.13 and may be removed in the future, please use 'weights' instead.\n",
            "  warnings.warn(\n",
            "/usr/local/lib/python3.8/dist-packages/torchvision/models/_utils.py:223: UserWarning: Arguments other than a weight enum or `None` for 'weights' are deprecated since 0.13 and may be removed in the future. The current behavior is equivalent to passing `weights=ResNet18_Weights.IMAGENET1K_V1`. You can also use `weights=ResNet18_Weights.DEFAULT` to get the most up-to-date weights.\n",
            "  warnings.warn(msg)\n"
          ]
        },
        {
          "output_type": "execute_result",
          "data": {
            "text/plain": [
              "ResNet(\n",
              "  (conv1): Conv2d(3, 64, kernel_size=(7, 7), stride=(2, 2), padding=(3, 3), bias=False)\n",
              "  (bn1): BatchNorm2d(64, eps=1e-05, momentum=0.1, affine=True, track_running_stats=True)\n",
              "  (relu): ReLU(inplace=True)\n",
              "  (maxpool): MaxPool2d(kernel_size=3, stride=2, padding=1, dilation=1, ceil_mode=False)\n",
              "  (layer1): Sequential(\n",
              "    (0): BasicBlock(\n",
              "      (conv1): Conv2d(64, 64, kernel_size=(3, 3), stride=(1, 1), padding=(1, 1), bias=False)\n",
              "      (bn1): BatchNorm2d(64, eps=1e-05, momentum=0.1, affine=True, track_running_stats=True)\n",
              "      (relu): ReLU(inplace=True)\n",
              "      (conv2): Conv2d(64, 64, kernel_size=(3, 3), stride=(1, 1), padding=(1, 1), bias=False)\n",
              "      (bn2): BatchNorm2d(64, eps=1e-05, momentum=0.1, affine=True, track_running_stats=True)\n",
              "    )\n",
              "    (1): BasicBlock(\n",
              "      (conv1): Conv2d(64, 64, kernel_size=(3, 3), stride=(1, 1), padding=(1, 1), bias=False)\n",
              "      (bn1): BatchNorm2d(64, eps=1e-05, momentum=0.1, affine=True, track_running_stats=True)\n",
              "      (relu): ReLU(inplace=True)\n",
              "      (conv2): Conv2d(64, 64, kernel_size=(3, 3), stride=(1, 1), padding=(1, 1), bias=False)\n",
              "      (bn2): BatchNorm2d(64, eps=1e-05, momentum=0.1, affine=True, track_running_stats=True)\n",
              "    )\n",
              "  )\n",
              "  (layer2): Sequential(\n",
              "    (0): BasicBlock(\n",
              "      (conv1): Conv2d(64, 128, kernel_size=(3, 3), stride=(2, 2), padding=(1, 1), bias=False)\n",
              "      (bn1): BatchNorm2d(128, eps=1e-05, momentum=0.1, affine=True, track_running_stats=True)\n",
              "      (relu): ReLU(inplace=True)\n",
              "      (conv2): Conv2d(128, 128, kernel_size=(3, 3), stride=(1, 1), padding=(1, 1), bias=False)\n",
              "      (bn2): BatchNorm2d(128, eps=1e-05, momentum=0.1, affine=True, track_running_stats=True)\n",
              "      (downsample): Sequential(\n",
              "        (0): Conv2d(64, 128, kernel_size=(1, 1), stride=(2, 2), bias=False)\n",
              "        (1): BatchNorm2d(128, eps=1e-05, momentum=0.1, affine=True, track_running_stats=True)\n",
              "      )\n",
              "    )\n",
              "    (1): BasicBlock(\n",
              "      (conv1): Conv2d(128, 128, kernel_size=(3, 3), stride=(1, 1), padding=(1, 1), bias=False)\n",
              "      (bn1): BatchNorm2d(128, eps=1e-05, momentum=0.1, affine=True, track_running_stats=True)\n",
              "      (relu): ReLU(inplace=True)\n",
              "      (conv2): Conv2d(128, 128, kernel_size=(3, 3), stride=(1, 1), padding=(1, 1), bias=False)\n",
              "      (bn2): BatchNorm2d(128, eps=1e-05, momentum=0.1, affine=True, track_running_stats=True)\n",
              "    )\n",
              "  )\n",
              "  (layer3): Sequential(\n",
              "    (0): BasicBlock(\n",
              "      (conv1): Conv2d(128, 256, kernel_size=(3, 3), stride=(2, 2), padding=(1, 1), bias=False)\n",
              "      (bn1): BatchNorm2d(256, eps=1e-05, momentum=0.1, affine=True, track_running_stats=True)\n",
              "      (relu): ReLU(inplace=True)\n",
              "      (conv2): Conv2d(256, 256, kernel_size=(3, 3), stride=(1, 1), padding=(1, 1), bias=False)\n",
              "      (bn2): BatchNorm2d(256, eps=1e-05, momentum=0.1, affine=True, track_running_stats=True)\n",
              "      (downsample): Sequential(\n",
              "        (0): Conv2d(128, 256, kernel_size=(1, 1), stride=(2, 2), bias=False)\n",
              "        (1): BatchNorm2d(256, eps=1e-05, momentum=0.1, affine=True, track_running_stats=True)\n",
              "      )\n",
              "    )\n",
              "    (1): BasicBlock(\n",
              "      (conv1): Conv2d(256, 256, kernel_size=(3, 3), stride=(1, 1), padding=(1, 1), bias=False)\n",
              "      (bn1): BatchNorm2d(256, eps=1e-05, momentum=0.1, affine=True, track_running_stats=True)\n",
              "      (relu): ReLU(inplace=True)\n",
              "      (conv2): Conv2d(256, 256, kernel_size=(3, 3), stride=(1, 1), padding=(1, 1), bias=False)\n",
              "      (bn2): BatchNorm2d(256, eps=1e-05, momentum=0.1, affine=True, track_running_stats=True)\n",
              "    )\n",
              "  )\n",
              "  (layer4): Sequential(\n",
              "    (0): BasicBlock(\n",
              "      (conv1): Conv2d(256, 512, kernel_size=(3, 3), stride=(2, 2), padding=(1, 1), bias=False)\n",
              "      (bn1): BatchNorm2d(512, eps=1e-05, momentum=0.1, affine=True, track_running_stats=True)\n",
              "      (relu): ReLU(inplace=True)\n",
              "      (conv2): Conv2d(512, 512, kernel_size=(3, 3), stride=(1, 1), padding=(1, 1), bias=False)\n",
              "      (bn2): BatchNorm2d(512, eps=1e-05, momentum=0.1, affine=True, track_running_stats=True)\n",
              "      (downsample): Sequential(\n",
              "        (0): Conv2d(256, 512, kernel_size=(1, 1), stride=(2, 2), bias=False)\n",
              "        (1): BatchNorm2d(512, eps=1e-05, momentum=0.1, affine=True, track_running_stats=True)\n",
              "      )\n",
              "    )\n",
              "    (1): BasicBlock(\n",
              "      (conv1): Conv2d(512, 512, kernel_size=(3, 3), stride=(1, 1), padding=(1, 1), bias=False)\n",
              "      (bn1): BatchNorm2d(512, eps=1e-05, momentum=0.1, affine=True, track_running_stats=True)\n",
              "      (relu): ReLU(inplace=True)\n",
              "      (conv2): Conv2d(512, 512, kernel_size=(3, 3), stride=(1, 1), padding=(1, 1), bias=False)\n",
              "      (bn2): BatchNorm2d(512, eps=1e-05, momentum=0.1, affine=True, track_running_stats=True)\n",
              "    )\n",
              "  )\n",
              "  (avgpool): AdaptiveAvgPool2d(output_size=(1, 1))\n",
              "  (fc): Linear(in_features=512, out_features=10, bias=True)\n",
              ")"
            ]
          },
          "metadata": {},
          "execution_count": 90
        }
      ],
      "source": [
        "model_0= models.resnet18(pretrained=True)\n",
        "for param in model_0.parameters():\n",
        "  param.requires_grad=False\n",
        "num_feat= model_0.fc.in_features\n",
        "model_0.fc = nn.Linear(num_feat, 10) #assigning no of output classes to the last FC layer.\n",
        "model_0.to(device)"
      ]
    },
    {
      "cell_type": "code",
      "execution_count": null,
      "metadata": {
        "id": "VPgcz6hgrMTx"
      },
      "outputs": [],
      "source": [
        "criterion= nn.CrossEntropyLoss()\n"
      ]
    },
    {
      "cell_type": "code",
      "execution_count": null,
      "metadata": {
        "id": "hVo6pLPU_Afq"
      },
      "outputs": [],
      "source": [
        "#Calculate accuracy\n",
        "def accuracy_fn(y_true, y_pred):\n",
        "  correct= torch.eq(y_true, y_pred).sum().item()\n",
        "  acc= (correct/len(y_pred)) * 100\n",
        "  return acc "
      ]
    },
    {
      "cell_type": "code",
      "execution_count": null,
      "metadata": {
        "id": "8Gmpa2xNCgJk"
      },
      "outputs": [],
      "source": [
        "test_loss_list=[]\n",
        "test_acc_list=[]\n",
        "def test(model):\n",
        "  test_loss = 0\n",
        "  test_acc = 0\n",
        "  #model.eval()\n",
        "  with torch.inference_mode():\n",
        "    for batch, (X,y) in enumerate(test_dataloader):\n",
        "      X,y = X.to(device),y.to(device)\n",
        "      test_pred= model(X)\n",
        "      test_loss += criterion(test_pred,y).item()\n",
        "      test_acc += accuracy_fn(y_true=y,\n",
        "                              y_pred=test_pred.argmax(dim=1))\n",
        "    \n",
        "  test_loss /= len(test_dataloader)\n",
        "  test_acc /= len(test_dataloader)\n",
        "  test_loss_list.append(test_loss)\n",
        "  test_acc_list.append(test_acc)\n",
        "  print(f\"Test loss :{test_loss:.4f} | test accuraacy: {test_acc:.4f}\")\n",
        "   "
      ]
    },
    {
      "cell_type": "code",
      "execution_count": null,
      "metadata": {
        "id": "qErfT-Ji_C-i"
      },
      "outputs": [],
      "source": [
        "train_loss_list = []\n",
        "def train(model,epochs):\n",
        "  for epoch in range(epochs):\n",
        "    print(f\"Epoch:{epoch}  \\n-------\")\n",
        "\n",
        "    train_loss = 0\n",
        "    train_acc = 0\n",
        "    for batch, (X,y) in enumerate(train_dataloader):\n",
        "      X,y = X.to(device),y.to(device)\n",
        "      model.train()\n",
        "      y_pred=model(X)\n",
        "      train_acc += accuracy_fn(y_true=y,\n",
        "                              y_pred=y_pred.argmax(dim=1))\n",
        "      loss= criterion(y_pred,y)\n",
        "      optimizer.zero_grad()\n",
        "      train_loss += loss.item()\n",
        "      loss.backward()\n",
        "      optimizer.step()\n",
        "\n",
        "      if batch%10==0:\n",
        "        # print(batch)\n",
        "        \n",
        "        print(f\"Looked at {batch*len(X)}/ {len(train_dataloader.dataset)} samples.\")\n",
        "    \n",
        "    train_loss /= len(train_dataloader)\n",
        "    train_acc /= len(train_dataloader)\n",
        "    train_loss_list.append(train_loss)\n",
        "    print(f\"Train loss :{train_loss:.4f}| train accuraacy: {train_acc:.4f}\")\n",
        "    test(model_0)"
      ]
    },
    {
      "cell_type": "code",
      "execution_count": null,
      "metadata": {
        "id": "ujEQamGk7a3K"
      },
      "outputs": [],
      "source": [
        "model_0.to(device)\n",
        "optimizer = optim.SGD(model_0.parameters(), lr=1e-1)\n",
        "#model= train(model_0, epochs=2)\n",
        "train(model_0,10)\n"
      ]
    },
    {
      "cell_type": "code",
      "execution_count": null,
      "metadata": {
        "id": "IDy6nlBXLg7C",
        "colab": {
          "base_uri": "https://localhost:8080/"
        },
        "outputId": "760d4fd9-33c5-476e-dc3e-be31ca885c2e"
      },
      "outputs": [
        {
          "output_type": "stream",
          "name": "stdout",
          "text": [
            "Epoch:0  \n",
            "-------\n",
            "Looked at 0/ 5000 samples.\n",
            "Looked at 1000/ 5000 samples.\n",
            "Looked at 2000/ 5000 samples.\n",
            "Looked at 3000/ 5000 samples.\n",
            "Looked at 4000/ 5000 samples.\n",
            "Train loss :19.9190| train accuraacy: 48.9400\n",
            "Test loss :10.3339 | test accuraacy: 64.2750\n",
            "Epoch:1  \n",
            "-------\n",
            "Looked at 0/ 5000 samples.\n",
            "Looked at 1000/ 5000 samples.\n",
            "Looked at 2000/ 5000 samples.\n",
            "Looked at 3000/ 5000 samples.\n",
            "Looked at 4000/ 5000 samples.\n",
            "Train loss :9.0294| train accuraacy: 66.0200\n",
            "Test loss :7.8464 | test accuraacy: 69.7125\n",
            "Epoch:2  \n",
            "-------\n",
            "Looked at 0/ 5000 samples.\n",
            "Looked at 1000/ 5000 samples.\n",
            "Looked at 2000/ 5000 samples.\n",
            "Looked at 3000/ 5000 samples.\n",
            "Looked at 4000/ 5000 samples.\n",
            "Train loss :8.1795| train accuraacy: 69.4600\n",
            "Test loss :8.5009 | test accuraacy: 70.2375\n",
            "Epoch:3  \n",
            "-------\n",
            "Looked at 0/ 5000 samples.\n",
            "Looked at 1000/ 5000 samples.\n",
            "Looked at 2000/ 5000 samples.\n",
            "Looked at 3000/ 5000 samples.\n",
            "Looked at 4000/ 5000 samples.\n",
            "Train loss :7.6612| train accuraacy: 72.2000\n",
            "Test loss :16.8188 | test accuraacy: 56.3000\n",
            "Epoch:4  \n",
            "-------\n",
            "Looked at 0/ 5000 samples.\n",
            "Looked at 1000/ 5000 samples.\n",
            "Looked at 2000/ 5000 samples.\n",
            "Looked at 3000/ 5000 samples.\n",
            "Looked at 4000/ 5000 samples.\n",
            "Train loss :6.8787| train accuraacy: 74.5000\n",
            "Test loss :11.1363 | test accuraacy: 67.7875\n",
            "Epoch:5  \n",
            "-------\n",
            "Looked at 0/ 5000 samples.\n",
            "Looked at 1000/ 5000 samples.\n",
            "Looked at 2000/ 5000 samples.\n",
            "Looked at 3000/ 5000 samples.\n",
            "Looked at 4000/ 5000 samples.\n",
            "Train loss :6.6059| train accuraacy: 75.7000\n",
            "Test loss :9.4999 | test accuraacy: 72.9625\n",
            "Epoch:6  \n",
            "-------\n",
            "Looked at 0/ 5000 samples.\n",
            "Looked at 1000/ 5000 samples.\n",
            "Looked at 2000/ 5000 samples.\n",
            "Looked at 3000/ 5000 samples.\n",
            "Looked at 4000/ 5000 samples.\n",
            "Train loss :6.4748| train accuraacy: 76.2600\n",
            "Test loss :9.0397 | test accuraacy: 72.0625\n",
            "Epoch:7  \n",
            "-------\n",
            "Looked at 0/ 5000 samples.\n",
            "Looked at 1000/ 5000 samples.\n",
            "Looked at 2000/ 5000 samples.\n",
            "Looked at 3000/ 5000 samples.\n",
            "Looked at 4000/ 5000 samples.\n",
            "Train loss :6.4441| train accuraacy: 76.7800\n",
            "Test loss :16.0654 | test accuraacy: 61.3875\n",
            "Epoch:8  \n",
            "-------\n",
            "Looked at 0/ 5000 samples.\n",
            "Looked at 1000/ 5000 samples.\n",
            "Looked at 2000/ 5000 samples.\n",
            "Looked at 3000/ 5000 samples.\n",
            "Looked at 4000/ 5000 samples.\n",
            "Train loss :6.4517| train accuraacy: 77.4400\n",
            "Test loss :12.6734 | test accuraacy: 67.6375\n",
            "Epoch:9  \n",
            "-------\n",
            "Looked at 0/ 5000 samples.\n",
            "Looked at 1000/ 5000 samples.\n",
            "Looked at 2000/ 5000 samples.\n",
            "Looked at 3000/ 5000 samples.\n",
            "Looked at 4000/ 5000 samples.\n",
            "Train loss :6.0050| train accuraacy: 77.8400\n",
            "Test loss :11.3725 | test accuraacy: 70.5375\n"
          ]
        }
      ],
      "source": [
        "#RMS PROP ALGORITHM\n",
        "model_0.to(device)\n",
        "optimizer = optim.RMSprop(model_0.parameters(), lr=1e-1, alpha=0.8)\n",
        "#model= train(model_0, epochs=2)\n",
        "train(model_0,10)"
      ]
    },
    {
      "cell_type": "code",
      "source": [
        "epoch_list= [i for i in range(10)]\n",
        "print(train_loss_list)\n",
        "print(test_loss_list)\n",
        "epoch_list"
      ],
      "metadata": {
        "id": "pcG3NpH-e-jP",
        "colab": {
          "base_uri": "https://localhost:8080/"
        },
        "outputId": "57dbc4d8-79c8-4b83-9fa9-1867cf6cf55a"
      },
      "execution_count": null,
      "outputs": [
        {
          "output_type": "stream",
          "name": "stdout",
          "text": [
            "[19.91899401664734, 9.029361896514892, 8.179548225402833, 7.66123113155365, 6.8787445545196535, 6.605893681049347, 6.474802606105804, 6.444143242835999, 6.451693015098572, 6.004986066818237]\n",
            "[10.333891904354095, 7.846403366327285, 8.500868904590607, 16.81876858472824, 11.136294209957123, 9.499908682703971, 9.039731886982917, 16.065402603149415, 12.673370152711868, 11.37254444360733]\n"
          ]
        },
        {
          "output_type": "execute_result",
          "data": {
            "text/plain": [
              "[0, 1, 2, 3, 4, 5, 6, 7, 8, 9]"
            ]
          },
          "metadata": {},
          "execution_count": 56
        }
      ]
    },
    {
      "cell_type": "code",
      "source": [
        "import numpy as np\n",
        "\n",
        "#plot loss curves\n",
        "plt.plot(epoch_list, train_loss_list, label ='Train loss')\n",
        "plt.plot(epoch_list, test_loss_list, label='Test loss')\n",
        "plt.title(\"training & test loss curves\")\n",
        "plt.ylabel(\"loss\")\n",
        "plt.xlabel('Epochs')\n",
        "plt.legend();\n"
      ],
      "metadata": {
        "id": "1ctR7dDefaK1",
        "colab": {
          "base_uri": "https://localhost:8080/",
          "height": 295
        },
        "outputId": "02c8e1fa-d4bb-4c7d-955f-38a68b76f26f"
      },
      "execution_count": null,
      "outputs": [
        {
          "output_type": "display_data",
          "data": {
            "text/plain": [
              "<Figure size 432x288 with 1 Axes>"
            ],
            "image/png": "[encoded data removed]"
          },
          "metadata": {
            "needs_background": "light"
          }
        }
      ]
    },
    {
      "cell_type": "code",
      "source": [
        "#ADAM ALGORITHM\n",
        "model = model_0.to(device)\n",
        "model_0.to(device)\n",
        "optimizer = optim.Adam(model.parameters(), lr=1e-3, betas=(0.9,0.999))\n",
        "#model= train(model_0, epochs=2)\n",
        "train(model_0,10)"
      ],
      "metadata": {
        "id": "GdXCI031K-B2",
        "colab": {
          "base_uri": "https://localhost:8080/"
        },
        "outputId": "25b6fa2d-129b-4ba5-910d-2f9ff0ea4026"
      },
      "execution_count": null,
      "outputs": [
        {
          "output_type": "stream",
          "name": "stdout",
          "text": [
            "Epoch:0  \n",
            "-------\n",
            "Looked at 0/ 5000 samples.\n",
            "Looked at 1000/ 5000 samples.\n",
            "Looked at 2000/ 5000 samples.\n",
            "Looked at 3000/ 5000 samples.\n",
            "Looked at 4000/ 5000 samples.\n",
            "Train loss :1.4826| train accuraacy: 52.4000\n",
            "Test loss :0.9500 | test accuraacy: 72.5500\n",
            "Epoch:1  \n",
            "-------\n",
            "Looked at 0/ 5000 samples.\n",
            "Looked at 1000/ 5000 samples.\n",
            "Looked at 2000/ 5000 samples.\n",
            "Looked at 3000/ 5000 samples.\n",
            "Looked at 4000/ 5000 samples.\n",
            "Train loss :0.8104| train accuraacy: 75.3800\n",
            "Test loss :0.7791 | test accuraacy: 75.2750\n",
            "Epoch:2  \n",
            "-------\n",
            "Looked at 0/ 5000 samples.\n",
            "Looked at 1000/ 5000 samples.\n",
            "Looked at 2000/ 5000 samples.\n",
            "Looked at 3000/ 5000 samples.\n",
            "Looked at 4000/ 5000 samples.\n",
            "Train loss :0.6625| train accuraacy: 79.3400\n",
            "Test loss :0.7105 | test accuraacy: 77.1750\n",
            "Epoch:3  \n",
            "-------\n",
            "Looked at 0/ 5000 samples.\n",
            "Looked at 1000/ 5000 samples.\n",
            "Looked at 2000/ 5000 samples.\n",
            "Looked at 3000/ 5000 samples.\n",
            "Looked at 4000/ 5000 samples.\n",
            "Train loss :0.6077| train accuraacy: 80.8800\n",
            "Test loss :0.6827 | test accuraacy: 77.6000\n",
            "Epoch:4  \n",
            "-------\n",
            "Looked at 0/ 5000 samples.\n",
            "Looked at 1000/ 5000 samples.\n",
            "Looked at 2000/ 5000 samples.\n",
            "Looked at 3000/ 5000 samples.\n",
            "Looked at 4000/ 5000 samples.\n",
            "Train loss :0.5605| train accuraacy: 81.8000\n",
            "Test loss :0.6572 | test accuraacy: 78.0000\n",
            "Epoch:5  \n",
            "-------\n",
            "Looked at 0/ 5000 samples.\n",
            "Looked at 1000/ 5000 samples.\n",
            "Looked at 2000/ 5000 samples.\n",
            "Looked at 3000/ 5000 samples.\n",
            "Looked at 4000/ 5000 samples.\n",
            "Train loss :0.5286| train accuraacy: 83.1000\n",
            "Test loss :0.6624 | test accuraacy: 77.8125\n",
            "Epoch:6  \n",
            "-------\n",
            "Looked at 0/ 5000 samples.\n",
            "Looked at 1000/ 5000 samples.\n",
            "Looked at 2000/ 5000 samples.\n",
            "Looked at 3000/ 5000 samples.\n",
            "Looked at 4000/ 5000 samples.\n",
            "Train loss :0.5026| train accuraacy: 83.3000\n",
            "Test loss :0.6351 | test accuraacy: 78.9375\n",
            "Epoch:7  \n",
            "-------\n",
            "Looked at 0/ 5000 samples.\n",
            "Looked at 1000/ 5000 samples.\n",
            "Looked at 2000/ 5000 samples.\n",
            "Looked at 3000/ 5000 samples.\n",
            "Looked at 4000/ 5000 samples.\n",
            "Train loss :0.4786| train accuraacy: 84.4200\n",
            "Test loss :0.6270 | test accuraacy: 78.5500\n",
            "Epoch:8  \n",
            "-------\n",
            "Looked at 0/ 5000 samples.\n",
            "Looked at 1000/ 5000 samples.\n",
            "Looked at 2000/ 5000 samples.\n",
            "Looked at 3000/ 5000 samples.\n",
            "Looked at 4000/ 5000 samples.\n",
            "Train loss :0.4618| train accuraacy: 85.2200\n",
            "Test loss :0.6225 | test accuraacy: 78.6250\n",
            "Epoch:9  \n",
            "-------\n",
            "Looked at 0/ 5000 samples.\n",
            "Looked at 1000/ 5000 samples.\n",
            "Looked at 2000/ 5000 samples.\n",
            "Looked at 3000/ 5000 samples.\n",
            "Looked at 4000/ 5000 samples.\n",
            "Train loss :0.4520| train accuraacy: 85.4800\n",
            "Test loss :0.6254 | test accuraacy: 79.1750\n"
          ]
        }
      ]
    },
    {
      "cell_type": "code",
      "source": [
        "epoch_list= [i for i in range(10)]\n",
        "print(train_loss_list)\n",
        "print(len(train_loss_list))\n",
        "print(test_loss_list)\n",
        "print(len(test_loss_list))\n",
        "epoch_list"
      ],
      "metadata": {
        "id": "OnHolMXesHOK",
        "colab": {
          "base_uri": "https://localhost:8080/"
        },
        "outputId": "76af9ef2-d41e-4282-8b8d-3db0898c16b7"
      },
      "execution_count": null,
      "outputs": [
        {
          "output_type": "stream",
          "name": "stdout",
          "text": [
            "[19.91899401664734, 9.029361896514892, 8.179548225402833, 7.66123113155365, 6.8787445545196535, 6.605893681049347, 6.474802606105804, 6.444143242835999, 6.451693015098572, 6.004986066818237, 1.4825629091262817, 0.8103891241550446, 0.662513736486435, 0.6076727437973023, 0.5604900425672531, 0.5285708826780319, 0.5026353257894516, 0.4785805892944336, 0.46178874671459197, 0.45203172624111176]\n",
            "20\n",
            "[0.9499919280409813, 0.779087309539318, 0.7105268515646458, 0.6826978843659163, 0.6572248406708241, 0.6623850751668214, 0.6350833125412464, 0.6269537501037121, 0.6225449699908495, 0.6253866273909807]\n",
            "10\n"
          ]
        },
        {
          "output_type": "execute_result",
          "data": {
            "text/plain": [
              "[0, 1, 2, 3, 4, 5, 6, 7, 8, 9]"
            ]
          },
          "metadata": {},
          "execution_count": 69
        }
      ]
    },
    {
      "cell_type": "code",
      "source": [
        "import numpy as np\n",
        "\n",
        "#plot loss curves\n",
        "plt.plot(epoch_list, train_loss_list, label ='Train loss')\n",
        "plt.plot(epoch_list, test_loss_list, label='Test loss')\n",
        "plt.title(\"training & test loss curves\")\n",
        "plt.ylabel(\"loss\")\n",
        "plt.xlabel('Epochs')\n",
        "plt.legend();\n"
      ],
      "metadata": {
        "id": "mLVSXiaCjWZZ",
        "colab": {
          "base_uri": "https://localhost:8080/",
          "height": 295
        },
        "outputId": "d79d0c19-cbfd-42a8-bb1d-f1a7b333fa01"
      },
      "execution_count": null,
      "outputs": [
        {
          "output_type": "display_data",
          "data": {
            "text/plain": [
              "<Figure size 432x288 with 1 Axes>"
            ],
            "image/png": "[encoded data removed]"
          },
          "metadata": {
            "needs_background": "light"
          }
        }
      ]
    },
    {
      "cell_type": "code",
      "source": [
        "#ADAM ALGORITHM\n",
        "model_0.to(device)\n",
        "optimizer = optim.Adam(model_0.parameters(), lr=1e-2, betas=(0.5,0.999))\n",
        "train(model_0,10)\n"
      ],
      "metadata": {
        "colab": {
          "base_uri": "https://localhost:8080/"
        },
        "id": "D2TBAyFn2j06",
        "outputId": "13e4001b-7a33-491b-ad1f-ee0dcc99a6b5"
      },
      "execution_count": null,
      "outputs": [
        {
          "output_type": "stream",
          "name": "stdout",
          "text": [
            "Epoch:0  \n",
            "-------\n",
            "Looked at 0/ 5000 samples.\n",
            "Looked at 1000/ 5000 samples.\n",
            "Looked at 2000/ 5000 samples.\n",
            "Looked at 3000/ 5000 samples.\n",
            "Looked at 4000/ 5000 samples.\n",
            "Train loss :1.1656| train accuraacy: 64.6600\n",
            "Test loss :0.7000 | test accuraacy: 77.0375\n",
            "Epoch:1  \n",
            "-------\n",
            "Looked at 0/ 5000 samples.\n",
            "Looked at 1000/ 5000 samples.\n",
            "Looked at 2000/ 5000 samples.\n",
            "Looked at 3000/ 5000 samples.\n",
            "Looked at 4000/ 5000 samples.\n",
            "Train loss :0.5722| train accuraacy: 80.4800\n",
            "Test loss :0.6992 | test accuraacy: 77.2000\n",
            "Epoch:2  \n",
            "-------\n",
            "Looked at 0/ 5000 samples.\n",
            "Looked at 1000/ 5000 samples.\n",
            "Looked at 2000/ 5000 samples.\n",
            "Looked at 3000/ 5000 samples.\n",
            "Looked at 4000/ 5000 samples.\n",
            "Train loss :0.5191| train accuraacy: 82.0800\n",
            "Test loss :0.8261 | test accuraacy: 74.4500\n",
            "Epoch:3  \n",
            "-------\n",
            "Looked at 0/ 5000 samples.\n",
            "Looked at 1000/ 5000 samples.\n",
            "Looked at 2000/ 5000 samples.\n",
            "Looked at 3000/ 5000 samples.\n",
            "Looked at 4000/ 5000 samples.\n",
            "Train loss :0.5013| train accuraacy: 83.0400\n",
            "Test loss :0.7862 | test accuraacy: 75.5750\n",
            "Epoch:4  \n",
            "-------\n",
            "Looked at 0/ 5000 samples.\n",
            "Looked at 1000/ 5000 samples.\n",
            "Looked at 2000/ 5000 samples.\n",
            "Looked at 3000/ 5000 samples.\n",
            "Looked at 4000/ 5000 samples.\n",
            "Train loss :0.4816| train accuraacy: 83.4600\n",
            "Test loss :0.8249 | test accuraacy: 76.1250\n",
            "Epoch:5  \n",
            "-------\n",
            "Looked at 0/ 5000 samples.\n",
            "Looked at 1000/ 5000 samples.\n",
            "Looked at 2000/ 5000 samples.\n",
            "Looked at 3000/ 5000 samples.\n",
            "Looked at 4000/ 5000 samples.\n",
            "Train loss :0.4190| train accuraacy: 85.4000\n",
            "Test loss :0.8199 | test accuraacy: 76.3000\n",
            "Epoch:6  \n",
            "-------\n",
            "Looked at 0/ 5000 samples.\n",
            "Looked at 1000/ 5000 samples.\n",
            "Looked at 2000/ 5000 samples.\n",
            "Looked at 3000/ 5000 samples.\n",
            "Looked at 4000/ 5000 samples.\n",
            "Train loss :0.4461| train accuraacy: 84.8000\n",
            "Test loss :0.7696 | test accuraacy: 77.3125\n",
            "Epoch:7  \n",
            "-------\n",
            "Looked at 0/ 5000 samples.\n",
            "Looked at 1000/ 5000 samples.\n",
            "Looked at 2000/ 5000 samples.\n",
            "Looked at 3000/ 5000 samples.\n",
            "Looked at 4000/ 5000 samples.\n",
            "Train loss :0.4055| train accuraacy: 85.7200\n",
            "Test loss :0.8426 | test accuraacy: 76.3375\n",
            "Epoch:8  \n",
            "-------\n",
            "Looked at 0/ 5000 samples.\n",
            "Looked at 1000/ 5000 samples.\n",
            "Looked at 2000/ 5000 samples.\n",
            "Looked at 3000/ 5000 samples.\n",
            "Looked at 4000/ 5000 samples.\n",
            "Train loss :0.4362| train accuraacy: 85.3600\n",
            "Test loss :0.9839 | test accuraacy: 74.2250\n",
            "Epoch:9  \n",
            "-------\n",
            "Looked at 0/ 5000 samples.\n",
            "Looked at 1000/ 5000 samples.\n",
            "Looked at 2000/ 5000 samples.\n",
            "Looked at 3000/ 5000 samples.\n",
            "Looked at 4000/ 5000 samples.\n",
            "Train loss :0.4396| train accuraacy: 85.0800\n",
            "Test loss :0.9293 | test accuraacy: 76.0125\n"
          ]
        }
      ]
    },
    {
      "cell_type": "code",
      "source": [
        "epoch_list= [i for i in range(10)]\n",
        "print(train_loss_list)\n",
        "print(test_loss_list)\n",
        "epoch_list"
      ],
      "metadata": {
        "colab": {
          "base_uri": "https://localhost:8080/"
        },
        "id": "MVxv5FlW5BRf",
        "outputId": "501ecb91-435e-4d6e-b50f-32dd09e2cf08"
      },
      "execution_count": null,
      "outputs": [
        {
          "output_type": "stream",
          "name": "stdout",
          "text": [
            "[1.165573272705078, 0.5721875578165054, 0.5190924900770187, 0.501261225938797, 0.48163175404071806, 0.41897727698087694, 0.44606784522533416, 0.40547110050916674, 0.43624212116003036, 0.4395543172955513]\n",
            "[0.7000253893435001, 0.6991940580308438, 0.8260715182870626, 0.7861758001148701, 0.8248756252229213, 0.8198846854269505, 0.7696033153682947, 0.8426219008862972, 0.9839148238301277, 0.9293356209993362]\n"
          ]
        },
        {
          "output_type": "execute_result",
          "data": {
            "text/plain": [
              "[0, 1, 2, 3, 4, 5, 6, 7, 8, 9]"
            ]
          },
          "metadata": {},
          "execution_count": 82
        }
      ]
    },
    {
      "cell_type": "code",
      "source": [
        "import numpy as np\n",
        "\n",
        "#plot loss curves\n",
        "plt.plot(epoch_list, train_loss_list, label ='Train loss')\n",
        "plt.plot(epoch_list, test_loss_list, label='Test loss')\n",
        "plt.title(\"training & test loss curves\")\n",
        "plt.ylabel(\"loss\")\n",
        "plt.xlabel('Epochs')\n",
        "plt.legend();\n"
      ],
      "metadata": {
        "colab": {
          "base_uri": "https://localhost:8080/",
          "height": 295
        },
        "id": "7IAsxOJ72kk8",
        "outputId": "08fc99fa-1bc7-430b-bd9f-ea0daf6dd359"
      },
      "execution_count": null,
      "outputs": [
        {
          "output_type": "display_data",
          "data": {
            "text/plain": [
              "<Figure size 432x288 with 1 Axes>"
            ],
            "image/png": "[encoded data removed]"
          },
          "metadata": {
            "needs_background": "light"
          }
        }
      ]
    },
    {
      "cell_type": "code",
      "source": [
        "#ADAGRAD ALGORITHM\n",
        "model_0.to(device)\n",
        "optimizer = optim.Adagrad(model_0.parameters(), lr=1e-1, weight_decay=0.001,eps=1e-10)\n",
        "#model= train(model_0, epochs=2)\n",
        "train(model_0,10)\n"
      ],
      "metadata": {
        "id": "OJ6Rn1leM2D_",
        "colab": {
          "base_uri": "https://localhost:8080/"
        },
        "outputId": "4373e04d-71f4-4840-bdce-0a3d53c98872"
      },
      "execution_count": null,
      "outputs": [
        {
          "output_type": "stream",
          "name": "stdout",
          "text": [
            "Epoch:0  \n",
            "-------\n",
            "Looked at 0/ 5000 samples.\n",
            "Looked at 1000/ 5000 samples.\n",
            "Looked at 2000/ 5000 samples.\n",
            "Looked at 3000/ 5000 samples.\n",
            "Looked at 4000/ 5000 samples.\n",
            "Train loss :4.2933| train accuraacy: 62.8200\n",
            "Test loss :1.8256 | test accuraacy: 66.3000\n",
            "Epoch:1  \n",
            "-------\n",
            "Looked at 0/ 5000 samples.\n",
            "Looked at 1000/ 5000 samples.\n",
            "Looked at 2000/ 5000 samples.\n",
            "Looked at 3000/ 5000 samples.\n",
            "Looked at 4000/ 5000 samples.\n",
            "Train loss :0.9345| train accuraacy: 77.3800\n",
            "Test loss :0.9823 | test accuraacy: 75.6500\n",
            "Epoch:2  \n",
            "-------\n",
            "Looked at 0/ 5000 samples.\n",
            "Looked at 1000/ 5000 samples.\n",
            "Looked at 2000/ 5000 samples.\n",
            "Looked at 3000/ 5000 samples.\n",
            "Looked at 4000/ 5000 samples.\n",
            "Train loss :0.7498| train accuraacy: 78.9000\n",
            "Test loss :1.0590 | test accuraacy: 74.5250\n",
            "Epoch:3  \n",
            "-------\n",
            "Looked at 0/ 5000 samples.\n",
            "Looked at 1000/ 5000 samples.\n",
            "Looked at 2000/ 5000 samples.\n",
            "Looked at 3000/ 5000 samples.\n",
            "Looked at 4000/ 5000 samples.\n",
            "Train loss :0.6028| train accuraacy: 81.9600\n",
            "Test loss :0.8805 | test accuraacy: 76.5625\n",
            "Epoch:4  \n",
            "-------\n",
            "Looked at 0/ 5000 samples.\n",
            "Looked at 1000/ 5000 samples.\n",
            "Looked at 2000/ 5000 samples.\n",
            "Looked at 3000/ 5000 samples.\n",
            "Looked at 4000/ 5000 samples.\n",
            "Train loss :0.5367| train accuraacy: 83.0200\n",
            "Test loss :1.0629 | test accuraacy: 73.6125\n",
            "Epoch:5  \n",
            "-------\n",
            "Looked at 0/ 5000 samples.\n",
            "Looked at 1000/ 5000 samples.\n",
            "Looked at 2000/ 5000 samples.\n",
            "Looked at 3000/ 5000 samples.\n",
            "Looked at 4000/ 5000 samples.\n",
            "Train loss :0.4803| train accuraacy: 84.0200\n",
            "Test loss :0.8992 | test accuraacy: 75.4875\n",
            "Epoch:6  \n",
            "-------\n",
            "Looked at 0/ 5000 samples.\n",
            "Looked at 1000/ 5000 samples.\n",
            "Looked at 2000/ 5000 samples.\n",
            "Looked at 3000/ 5000 samples.\n",
            "Looked at 4000/ 5000 samples.\n",
            "Train loss :0.4456| train accuraacy: 84.6800\n",
            "Test loss :0.8214 | test accuraacy: 77.5250\n",
            "Epoch:7  \n",
            "-------\n",
            "Looked at 0/ 5000 samples.\n",
            "Looked at 1000/ 5000 samples.\n",
            "Looked at 2000/ 5000 samples.\n",
            "Looked at 3000/ 5000 samples.\n",
            "Looked at 4000/ 5000 samples.\n",
            "Train loss :0.4229| train accuraacy: 85.1600\n",
            "Test loss :0.9909 | test accuraacy: 74.0250\n",
            "Epoch:8  \n",
            "-------\n",
            "Looked at 0/ 5000 samples.\n",
            "Looked at 1000/ 5000 samples.\n",
            "Looked at 2000/ 5000 samples.\n",
            "Looked at 3000/ 5000 samples.\n",
            "Looked at 4000/ 5000 samples.\n",
            "Train loss :0.4296| train accuraacy: 84.5400\n",
            "Test loss :0.7997 | test accuraacy: 77.4500\n",
            "Epoch:9  \n",
            "-------\n",
            "Looked at 0/ 5000 samples.\n",
            "Looked at 1000/ 5000 samples.\n",
            "Looked at 2000/ 5000 samples.\n",
            "Looked at 3000/ 5000 samples.\n",
            "Looked at 4000/ 5000 samples.\n",
            "Train loss :0.3956| train accuraacy: 85.9400\n",
            "Test loss :0.8672 | test accuraacy: 76.5250\n"
          ]
        }
      ]
    },
    {
      "cell_type": "code",
      "source": [
        "import numpy as np\n",
        "\n",
        "#plot loss curves\n",
        "plt.plot(epoch_list, train_loss_list, label ='Train loss')\n",
        "plt.plot(epoch_list, test_loss_list, label='Test loss')\n",
        "plt.title(\"training & test loss curves\")\n",
        "plt.ylabel(\"loss\")\n",
        "plt.xlabel('Epochs')\n",
        "plt.legend();\n"
      ],
      "metadata": {
        "id": "bwCNjtlUNCAa",
        "colab": {
          "base_uri": "https://localhost:8080/",
          "height": 295
        },
        "outputId": "d3015ece-640f-488c-a770-30f5b000b5a4"
      },
      "execution_count": null,
      "outputs": [
        {
          "output_type": "display_data",
          "data": {
            "text/plain": [
              "<Figure size 432x288 with 1 Axes>"
            ],
            "image/png": "[encoded data removed]"
          },
          "metadata": {
            "needs_background": "light"
          }
        }
      ]
    },
    {
      "cell_type": "code",
      "source": [],
      "metadata": {
        "id": "NqR-g5U4iNX9"
      },
      "execution_count": null,
      "outputs": []
    },
    {
      "cell_type": "code",
      "source": [],
      "metadata": {
        "id": "lAQK8qCKiLqi"
      },
      "execution_count": null,
      "outputs": []
    },
    {
      "cell_type": "code",
      "source": [],
      "metadata": {
        "id": "o6XRjfS8N-Yg"
      },
      "execution_count": null,
      "outputs": []
    }
  ],
  "metadata": {
    "colab": {
      "provenance": []
    },
    "kernelspec": {
      "display_name": "Python 3",
      "name": "python3"
    },
    "language_info": {
      "name": "python"
    },
    "accelerator": "GPU",
    "gpuClass": "standard"
  },
  "nbformat": 4,
  "nbformat_minor": 0
}