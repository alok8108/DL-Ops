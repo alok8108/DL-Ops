{
  "nbformat": 4,
  "nbformat_minor": 0,
  "metadata": {
    "colab": {
      "provenance": []
    },
    "kernelspec": {
      "name": "python3",
      "display_name": "Python 3"
    },
    "language_info": {
      "name": "python"
    }
  },
  "cells": [
    {
      "cell_type": "code",
      "execution_count": 1,
      "metadata": {
        "id": "-6CKe0kOzI6Z"
      },
      "outputs": [],
      "source": [
        "import numpy as np\n",
        "import pandas as pd\n",
        "import torch\n",
        "import torch.nn as nn\n",
        "import torch.nn.parallel\n",
        "import torch.optim as optim\n",
        "import torch.utils.data\n",
        "from torch.autograd import Variable\n",
        "import torchvision\n",
        "from torchvision.datasets import FashionMNIST\n",
        "import torchvision.transforms as transforms\n",
        "import matplotlib.pyplot as plt\n"
      ]
    },
    {
      "cell_type": "code",
      "source": [
        "train_dataset = FashionMNIST(root='data/',download= True,train=True, transform=transforms.Compose([\n",
        "    transforms.Grayscale(1),\n",
        "    transforms.ToTensor()])\n",
        ")"
      ],
      "metadata": {
        "id": "XrIqwDqQzmlm"
      },
      "execution_count": 2,
      "outputs": []
    },
    {
      "cell_type": "code",
      "source": [
        "test_dataset = FashionMNIST(root='data/',download= True,train=False, transform=transforms.Compose([\n",
        "    transforms.Grayscale(1),\n",
        "    transforms.ToTensor()])\n",
        ")"
      ],
      "metadata": {
        "id": "9ksPF8Ac1C1S"
      },
      "execution_count": 3,
      "outputs": []
    },
    {
      "cell_type": "code",
      "source": [
        "img_tensor, label = train_dataset[0]\n",
        "print(img_tensor.shape, label)"
      ],
      "metadata": {
        "colab": {
          "base_uri": "https://localhost:8080/"
        },
        "id": "GethIC1Q1bpM",
        "outputId": "e3134b31-f3bf-472d-df1e-dec2965cb923"
      },
      "execution_count": 4,
      "outputs": [
        {
          "output_type": "stream",
          "name": "stdout",
          "text": [
            "torch.Size([1, 28, 28]) 9\n"
          ]
        }
      ]
    },
    {
      "cell_type": "code",
      "source": [
        "from torch.utils.data import DataLoader\n",
        "train_dataloader = DataLoader(train_dataset, batch_size=32, drop_last=True,shuffle=True)\n",
        "test_dataloader = DataLoader(test_dataset, batch_size=32,drop_last=True, shuffle=True)"
      ],
      "metadata": {
        "id": "jchBEbSj1008"
      },
      "execution_count": 5,
      "outputs": []
    },
    {
      "cell_type": "code",
      "source": [
        "class AE(nn.Module):\n",
        "    def __init__(self,input_features,output_features):\n",
        "        super().__init__()\n",
        "        self.encoder_hidden_layer_1 = nn.Linear(\n",
        "            in_features=input_features, out_features=128\n",
        "        )\n",
        "        self.encoder_hidden_layer_2= nn.Linear(\n",
        "            in_features=128, out_features=128\n",
        "        )\n",
        "        self.encoder_hidden_layer_3 = nn.Linear(\n",
        "            in_features=128, out_features=128\n",
        "        )\n",
        "        self.encoder_output_layer = nn.Linear(\n",
        "            in_features=128, out_features=128\n",
        "        )\n",
        "        self.decoder_hidden_layer_1= nn.Linear(\n",
        "            in_features=128, out_features=128\n",
        "        )\n",
        "        self.decoder_hidden_layer_2 = nn.Linear(\n",
        "            in_features=128, out_features=128\n",
        "        )\n",
        "        self.decoder_hidden_layer_3 = nn.Linear(\n",
        "            in_features=128, out_features=128\n",
        "        )\n",
        "        self.decoder_output_layer = nn.Linear(\n",
        "            in_features=128, out_features=output_features\n",
        "        )\n",
        "\n",
        "    def encoder(self, x):\n",
        "        activation = self.encoder_hidden_layer_1(x)\n",
        "        activation = torch.relu(activation)\n",
        "        activation = self.encoder_hidden_layer_2(activation)\n",
        "        activation = torch.relu(activation)\n",
        "        activation = self.encoder_hidden_layer_3(activation)\n",
        "        activation = torch.relu_(activation)\n",
        "        code = self.encoder_output_layer(activation)\n",
        "        encoded = torch.relu(code)\n",
        "        return encoded\n",
        "\n",
        "    def decoder(self,x):\n",
        "        activation = self.decoder_hidden_layer_1(x)\n",
        "        activation = torch.relu(activation)\n",
        "        activation = self.decoder_hidden_layer_2(activation)\n",
        "        activation = torch.relu(activation)\n",
        "        activation = self.decoder_hidden_layer_3(activation)\n",
        "        activation = torch.relu_(activation)\n",
        "        activation = self.decoder_output_layer(activation)\n",
        "        decoded = torch.relu(activation)\n",
        "        return decoded\n",
        "\n",
        "    def forward(self, x):\n",
        "      reconstructed= self.decoder(self.encoder(x))\n",
        "      return reconstructed"
      ],
      "metadata": {
        "id": "XQ2ALBUrJ3gQ"
      },
      "execution_count": 29,
      "outputs": []
    },
    {
      "cell_type": "code",
      "source": [
        "device = torch.device (\"cuda\" if torch.cuda.is_available() else \"cpu\")"
      ],
      "metadata": {
        "id": "C48dVazrMRSI"
      },
      "execution_count": 30,
      "outputs": []
    },
    {
      "cell_type": "code",
      "source": [
        "  #create an instance of model and send it to the target device\n",
        "model_0= AE(input_features=784,\n",
        "                   output_features=784).to(device)\n"
      ],
      "metadata": {
        "id": "RmMTdoKDLvnD"
      },
      "execution_count": 63,
      "outputs": []
    },
    {
      "cell_type": "code",
      "source": [
        "#create an optimizer object\n",
        "# Adam optimizer with learning rate 1e-3\n",
        "optimizer = optim.SGD(model_0.parameters(), lr=0.1)\n",
        "\n",
        "# mean-squared error loss\n",
        "loss_fn = nn.MSELoss()"
      ],
      "metadata": {
        "id": "kx3jhmHrMvYH"
      },
      "execution_count": 64,
      "outputs": []
    },
    {
      "cell_type": "code",
      "source": [
        "noisy_data = (batch_features + 0.50 * torch.randn(batch_features.shape).to(device))\n",
        "noisy_data = noisy_data.view(-1, 784).to(device)"
      ],
      "metadata": {
        "id": "I7pgmk3HApdl"
      },
      "execution_count": null,
      "outputs": []
    },
    {
      "cell_type": "code",
      "source": [
        "epochs=5\n",
        "for epoch in range(epochs):\n",
        "    loss = 0\n",
        "    for batch_features, _ in train_dataloader:\n",
        "        # reshaping the input matrix\n",
        "        noisy_data = (batch_features + 0.01 * torch.randn(batch_features.shape).to(device))\n",
        "        noisy_data = noisy_data.view(-1, 784).to(device)\n",
        "        batch_features = batch_features.view(-1, 784).to(device)\n",
        "        optimizer.zero_grad()\n",
        "        outputs = model_0(noisy_data)\n",
        "        \n",
        "        # compute loss & update parameter\n",
        "        # print(type(loss))\n",
        "        train_loss = loss_fn(outputs, batch_features)\n",
        "        train_loss.backward()\n",
        "        optimizer.step()\n",
        "        loss += train_loss.item()\n",
        "    \n",
        "    # compute the epoch training loss\n",
        "    loss = loss / len(train_dataloader)\n",
        "    \n",
        "    # display the epoch training loss\n",
        "    print(\"epoch : {}/{}, loss = {:.6f}\".format(epoch + 1, epochs, loss))"
      ],
      "metadata": {
        "colab": {
          "base_uri": "https://localhost:8080/"
        },
        "id": "HAgHUNXONIOK",
        "outputId": "351b8f38-5a38-4f23-e4b6-9bb52a05966f"
      },
      "execution_count": 65,
      "outputs": [
        {
          "output_type": "stream",
          "name": "stdout",
          "text": [
            "epoch : 1/5, loss = 0.152079\n",
            "epoch : 2/5, loss = 0.116340\n",
            "epoch : 3/5, loss = 0.113364\n",
            "epoch : 4/5, loss = 0.111189\n",
            "epoch : 5/5, loss = 0.110120\n"
          ]
        }
      ]
    },
    {
      "cell_type": "markdown",
      "source": [
        "#Model with 3fc layer classifier"
      ],
      "metadata": {
        "id": "_2Tgs8oqxOZq"
      }
    },
    {
      "cell_type": "code",
      "source": [
        "from torch import nn\n",
        "#building a multiclass classification model\n",
        "class Clsf(nn.Module):\n",
        "  def __init__(self, input_features, output_features, hidden_units):\n",
        "    super().__init__()\n",
        "    self.linear_layer_stack= nn.Sequential(\n",
        "        nn.Linear(in_features= input_features, out_features=hidden_units),\n",
        "        nn.Sigmoid(),\n",
        "        nn.Linear(in_features=hidden_units, out_features=hidden_units),\n",
        "        nn.Sigmoid(),\n",
        "        nn.Linear(in_features=hidden_units, out_features=hidden_units),\n",
        "        nn.Sigmoid(),\n",
        "        nn.Linear(in_features=hidden_units, out_features=output_features)\n",
        "    )\n",
        "\n",
        "  def forward(self,x):\n",
        "    value=model_0.encoder(x)\n",
        "    value=self.linear_layer_stack(value)\n",
        "    return value\n",
        "\n",
        "  #create an instance of model and send it to the target device\n",
        "model_1= Clsf(input_features=128,\n",
        "                   output_features=10,\n",
        "                   hidden_units=100).to(device)\n",
        "\n"
      ],
      "metadata": {
        "id": "ATXm395bN5Nx"
      },
      "execution_count": 66,
      "outputs": []
    },
    {
      "cell_type": "code",
      "source": [
        "#create a loss function and an optimizer for multi-class classification model\n",
        "loss_fn= nn.CrossEntropyLoss()\n",
        "optimizer = torch.optim.SGD(params=model_1.parameters(), lr=0.1)\n"
      ],
      "metadata": {
        "id": "Q0FIgN0QkFJ4"
      },
      "execution_count": 67,
      "outputs": []
    },
    {
      "cell_type": "code",
      "source": [
        "#Calculate accuracy\n",
        "def accuracy_fn(y_true, y_pred):\n",
        "  correct = torch.eq(y_true, y_pred).sum().item()\n",
        "  acc= (correct/len(y_pred))*100\n",
        "  return acc"
      ],
      "metadata": {
        "id": "mdADsnuNngcO"
      },
      "execution_count": 68,
      "outputs": []
    },
    {
      "cell_type": "code",
      "source": [
        "\n",
        "torch.manual_seed(42)\n",
        "torch.cuda.manual_seed(42)\n",
        "\n",
        "#set number of epochs\n",
        "epochs=10\n",
        "\n",
        "#data to target device\n",
        "\n",
        "#loop through data\n",
        "for epoch in range(epochs):\n",
        "  train_loss = 0\n",
        "  for batch, (X, y) in enumerate(train_dataloader):\n",
        "    X, y =X.to(device), y.to(device)\n",
        "\n",
        "\n",
        "    #training\n",
        "    model_1.train()\n",
        "\n",
        "    #1. forward pass\n",
        "    y_logits = model_1(X.view(-1,784))\n",
        "\n",
        "    #2.Calculate the loss/acc\n",
        "    loss = loss_fn(y_logits, y)\n",
        "\n",
        "    train_loss = train_loss + loss\n",
        "    \n",
        "    #3.Optimizer zero grad\n",
        "    optimizer.zero_grad()\n",
        "\n",
        "    #4. Loss backward\n",
        "    loss.backward()\n",
        "\n",
        "    #5. optimizer step(gradient descent)\n",
        "    optimizer.step()\n",
        "\n",
        "  \n",
        "  ##Testing\n",
        "  model_1.eval()\n",
        "\n",
        "  with torch.inference_mode():\n",
        "    test_loss = 0\n",
        "    for X, y in test_dataloader:\n",
        "      X, y=X.to(device), y.to(device)\n",
        "    #1. forward pass\n",
        "      test_logits = model_1(X.view(-1,784))\n",
        "      # test_pred = torch.softmax(test_logits, dim=1).argmax(dim=1)\n",
        "\n",
        "      #2. calculte the loss\n",
        "      test_loss = test_loss + loss_fn(test_logits, y)\n",
        "    \n",
        "  #print out whats hapening\n",
        "  train_loss = train_loss / len(train_dataloader)\n",
        "  test_loss = test_loss / len(test_dataloader)\n",
        "  #if epoch ==0:\n",
        "  print(f\"Epoch: {epoch} | train loss:{train_loss:.5f} | Test loss:{test_loss:.5f}   \")\n",
        "\n",
        "\n"
      ],
      "metadata": {
        "id": "SnOEuqAakNCE",
        "colab": {
          "base_uri": "https://localhost:8080/"
        },
        "outputId": "d3c94bba-7961-4617-c2ed-2862104b5378"
      },
      "execution_count": 69,
      "outputs": [
        {
          "output_type": "stream",
          "name": "stdout",
          "text": [
            "Epoch: 0 | train loss:2.31577 | Test loss:2.30185   \n",
            "Epoch: 1 | train loss:2.19271 | Test loss:1.96583   \n",
            "Epoch: 2 | train loss:1.95481 | Test loss:1.92413   \n",
            "Epoch: 3 | train loss:1.90981 | Test loss:1.88291   \n",
            "Epoch: 4 | train loss:1.88181 | Test loss:1.87171   \n",
            "Epoch: 5 | train loss:1.87252 | Test loss:1.87703   \n",
            "Epoch: 6 | train loss:1.86517 | Test loss:1.85634   \n",
            "Epoch: 7 | train loss:1.85817 | Test loss:1.85585   \n",
            "Epoch: 8 | train loss:1.84910 | Test loss:1.83818   \n",
            "Epoch: 9 | train loss:1.83632 | Test loss:1.82978   \n"
          ]
        }
      ]
    },
    {
      "cell_type": "markdown",
      "source": [
        "#model with 1 fc layer"
      ],
      "metadata": {
        "id": "iDOGnGPjqgYP"
      }
    },
    {
      "cell_type": "code",
      "source": [
        "from torch import nn\n",
        "#building a multiclass classification model\n",
        "class Clsf_1(nn.Module):\n",
        "  def __init__(self, input_features, output_features, hidden_units):\n",
        "    super().__init__()\n",
        "    self.linear_layer_1= nn.Sequential(\n",
        "        nn.Linear(in_features= input_features, out_features=hidden_units),\n",
        "        nn.Sigmoid(),\n",
        "        nn.Linear(in_features=hidden_units, out_features=output_features)\n",
        "    )\n",
        "\n",
        "  def forward(self,x):\n",
        "    value=model_0.encoder(x)\n",
        "    value=self.linear_layer_1(value)\n",
        "    return value\n",
        "\n",
        "  #create an instance of model and send it to the target device\n",
        "model_2= Clsf_1(input_features=128,\n",
        "                   output_features=10,\n",
        "                   hidden_units=100).to(device)\n",
        "\n"
      ],
      "metadata": {
        "id": "J8hbKvbkxYgv"
      },
      "execution_count": 70,
      "outputs": []
    },
    {
      "cell_type": "code",
      "source": [
        "#create a loss function and an optimizer for multi-class classification model\n",
        "loss_fn= nn.CrossEntropyLoss()\n",
        "optimizer = torch.optim.SGD(params=model_2.parameters(), lr=0.1)\n"
      ],
      "metadata": {
        "id": "AmJmMRftx04W"
      },
      "execution_count": 71,
      "outputs": []
    },
    {
      "cell_type": "code",
      "source": [
        "#Calculate accuracy\n",
        "def accuracy_fn(y_true, y_pred):\n",
        "  correct = torch.eq(y_true, y_pred).sum().item()\n",
        "  acc= (correct/len(y_pred))*100\n",
        "  return acc"
      ],
      "metadata": {
        "id": "SXa3dK0lx91N"
      },
      "execution_count": 72,
      "outputs": []
    },
    {
      "cell_type": "code",
      "source": [
        "\n",
        "torch.manual_seed(42)\n",
        "torch.cuda.manual_seed(42)\n",
        "\n",
        "#set number of epochs\n",
        "epochs=10\n",
        "\n",
        "#data to target device\n",
        "\n",
        "#loop through data\n",
        "for epoch in range(epochs):\n",
        "  train_loss = 0\n",
        "  for batch, (X, y) in enumerate(train_dataloader):\n",
        "    X, y =X.to(device), y.to(device)\n",
        "\n",
        "\n",
        "    #training\n",
        "    model_2.train()\n",
        "\n",
        "    #1. forward pass\n",
        "    y_logits = model_2(X.view(-1,784))\n",
        "\n",
        "    #2.Calculate the loss/acc\n",
        "    loss = loss_fn(y_logits, y)\n",
        "\n",
        "    train_loss = train_loss + loss\n",
        "    \n",
        "    #3.Optimizer zero grad\n",
        "    optimizer.zero_grad()\n",
        "\n",
        "    #4. Loss backward\n",
        "    loss.backward()\n",
        "\n",
        "    #5. optimizer step(gradient descent)\n",
        "    optimizer.step()\n",
        "\n",
        "  \n",
        "  ##Testing\n",
        "  model_2.eval()\n",
        "\n",
        "  with torch.inference_mode():\n",
        "    test_loss = 0\n",
        "    for X, y in test_dataloader:\n",
        "      X, y=X.to(device), y.to(device)\n",
        "    #1. forward pass\n",
        "      test_logits = model_2(X.view(-1,784))\n",
        "      # test_pred = torch.softmax(test_logits, dim=1).argmax(dim=1)\n",
        "\n",
        "      #2. calculte the loss\n",
        "      test_loss = test_loss + loss_fn(test_logits, y)\n",
        "    \n",
        "  #print out whats hapening\n",
        "  train_loss = train_loss / len(train_dataloader)\n",
        "  test_loss = test_loss / len(test_dataloader)\n",
        "  #if epoch ==0:\n",
        "  print(f\"Epoch: {epoch} | train loss:{train_loss:.5f} | Test loss:{test_loss:.5f}   \")\n",
        "\n",
        "\n"
      ],
      "metadata": {
        "colab": {
          "base_uri": "https://localhost:8080/"
        },
        "id": "8-uQQD1FyCW8",
        "outputId": "b2ff4ace-27e6-4681-ec75-7262c18cc204"
      },
      "execution_count": 73,
      "outputs": [
        {
          "output_type": "stream",
          "name": "stdout",
          "text": [
            "Epoch: 0 | train loss:1.99581 | Test loss:1.93446   \n",
            "Epoch: 1 | train loss:1.93878 | Test loss:1.91719   \n",
            "Epoch: 2 | train loss:1.90792 | Test loss:1.88702   \n",
            "Epoch: 3 | train loss:1.87401 | Test loss:1.84981   \n",
            "Epoch: 4 | train loss:1.82876 | Test loss:1.79495   \n",
            "Epoch: 5 | train loss:1.75882 | Test loss:1.71671   \n",
            "Epoch: 6 | train loss:1.66375 | Test loss:1.60629   \n",
            "Epoch: 7 | train loss:1.56928 | Test loss:1.53965   \n",
            "Epoch: 8 | train loss:1.49195 | Test loss:1.44893   \n",
            "Epoch: 9 | train loss:1.43133 | Test loss:1.37973   \n"
          ]
        }
      ]
    },
    {
      "cell_type": "code",
      "source": [],
      "metadata": {
        "id": "jvv-T0Fr2FOb"
      },
      "execution_count": 73,
      "outputs": []
    },
    {
      "cell_type": "markdown",
      "source": [
        "#TSNE With Autoencoder"
      ],
      "metadata": {
        "id": "loprjWlr1p7y"
      }
    },
    {
      "cell_type": "code",
      "source": [
        "lt_embed = []\n",
        "lt_lb = []\n",
        "ln = 0 \n",
        "with torch.no_grad():\n",
        "  for img, lb in test_dataloader:\n",
        "    embed = model_0.encoder(img.to(device).view(-1, 784))\n",
        "    lt_embed.append(embed.cpu())\n",
        "    lt_lb.append(lb)\n",
        "    ln+=len(img)\n",
        "    if(ln>=1000):\n",
        "      break\n",
        "embed_tensor = torch.cat(lt_embed)\n",
        "label_tensor = torch.cat(lt_lb)"
      ],
      "metadata": {
        "id": "gZBWeIVVyQHk"
      },
      "execution_count": 74,
      "outputs": []
    },
    {
      "cell_type": "code",
      "source": [
        "from sklearn.manifold import TSNE"
      ],
      "metadata": {
        "id": "--THSsqu2lhk"
      },
      "execution_count": 75,
      "outputs": []
    },
    {
      "cell_type": "code",
      "source": [
        "tsne = TSNE(n_components=2, random_state=0)\n",
        "\n",
        "tsne_data = tsne.fit_transform(embed_tensor)"
      ],
      "metadata": {
        "colab": {
          "base_uri": "https://localhost:8080/"
        },
        "id": "1-XcwzMV08Cn",
        "outputId": "1d57dd2c-89e1-4951-abda-92e16281efc1"
      },
      "execution_count": 76,
      "outputs": [
        {
          "output_type": "stream",
          "name": "stderr",
          "text": [
            "/usr/local/lib/python3.8/dist-packages/sklearn/manifold/_t_sne.py:780: FutureWarning: The default initialization in TSNE will change from 'random' to 'pca' in 1.2.\n",
            "  warnings.warn(\n",
            "/usr/local/lib/python3.8/dist-packages/sklearn/manifold/_t_sne.py:790: FutureWarning: The default learning rate in TSNE will change from 200.0 to 'auto' in 1.2.\n",
            "  warnings.warn(\n"
          ]
        }
      ]
    },
    {
      "cell_type": "code",
      "source": [
        "scatter_x = tsne_data[:,0]\n",
        "scatter_y = tsne_data[:,1]\n",
        "group = label_tensor\n",
        "\n",
        "fig, ax = plt.subplots(figsize=(7, 7))\n",
        "for g in np.unique(group):\n",
        "    ix = np.where(group == g)\n",
        "    ax.scatter(scatter_x[ix], scatter_y[ix],  label = g)\n",
        "ax.legend()\n",
        "plt.show()"
      ],
      "metadata": {
        "colab": {
          "base_uri": "https://localhost:8080/",
          "height": 428
        },
        "id": "_ivXVIl42ZX4",
        "outputId": "07580f7d-71b2-43df-f4ff-e69d23ebdf1b"
      },
      "execution_count": 77,
      "outputs": [
        {
          "output_type": "display_data",
          "data": {
            "text/plain": [
              "<Figure size 504x504 with 1 Axes>"
            ],
            "image/png": "[encoded data removed]"
          },
          "metadata": {
            "needs_background": "light"
          }
        }
      ]
    },
    {
      "cell_type": "markdown",
      "source": [
        "#TSNE with 3-Fc layer"
      ],
      "metadata": {
        "id": "XLdtgNL73zi5"
      }
    },
    {
      "cell_type": "code",
      "source": [
        "lt_embed = []\n",
        "lt_lb = []\n",
        "ln = 0 \n",
        "with torch.no_grad():\n",
        "  for img, lb in test_dataloader:\n",
        "    embed = model_1(img.to(device).view(-1, 784))\n",
        "    lt_embed.append(embed.cpu())\n",
        "    lt_lb.append(lb)\n",
        "    ln+=len(img)\n",
        "    if(ln>=1000):\n",
        "      break\n",
        "embed_tensor = torch.cat(lt_embed)\n",
        "label_tensor = torch.cat(lt_lb)"
      ],
      "metadata": {
        "id": "k0XxR-572uYl"
      },
      "execution_count": 78,
      "outputs": []
    },
    {
      "cell_type": "code",
      "source": [
        "tsne = TSNE(n_components=2, random_state=0)\n",
        "\n",
        "tsne_data = tsne.fit_transform(embed_tensor)"
      ],
      "metadata": {
        "colab": {
          "base_uri": "https://localhost:8080/"
        },
        "id": "tWrp1XNs3Hox",
        "outputId": "f2ea485f-709e-4e52-9787-65a913fcfdd7"
      },
      "execution_count": 79,
      "outputs": [
        {
          "output_type": "stream",
          "name": "stderr",
          "text": [
            "/usr/local/lib/python3.8/dist-packages/sklearn/manifold/_t_sne.py:780: FutureWarning: The default initialization in TSNE will change from 'random' to 'pca' in 1.2.\n",
            "  warnings.warn(\n",
            "/usr/local/lib/python3.8/dist-packages/sklearn/manifold/_t_sne.py:790: FutureWarning: The default learning rate in TSNE will change from 200.0 to 'auto' in 1.2.\n",
            "  warnings.warn(\n"
          ]
        }
      ]
    },
    {
      "cell_type": "code",
      "source": [
        "scatter_x = tsne_data[:,0]\n",
        "scatter_y = tsne_data[:,1]\n",
        "group = label_tensor\n",
        "\n",
        "fig, ax = plt.subplots(figsize=(7, 7))\n",
        "for g in np.unique(group):\n",
        "    ix = np.where(group == g)\n",
        "    ax.scatter(scatter_x[ix], scatter_y[ix],  label = g)\n",
        "ax.legend()\n",
        "plt.show()"
      ],
      "metadata": {
        "colab": {
          "base_uri": "https://localhost:8080/",
          "height": 430
        },
        "id": "u3BIanwV3Kxg",
        "outputId": "41ed2bdb-e6d0-4cb3-f3ef-173d623cb9ec"
      },
      "execution_count": 80,
      "outputs": [
        {
          "output_type": "display_data",
          "data": {
            "text/plain": [
              "<Figure size 504x504 with 1 Axes>"
            ],
            "image/png": "[encoded data removed]"
          },
          "metadata": {
            "needs_background": "light"
          }
        }
      ]
    },
    {
      "cell_type": "markdown",
      "source": [
        "#TSNE with 1FC layer"
      ],
      "metadata": {
        "id": "bKHeCZbP3-Qy"
      }
    },
    {
      "cell_type": "code",
      "source": [
        "lt_embed = []\n",
        "lt_lb = []\n",
        "ln = 0 \n",
        "with torch.no_grad():\n",
        "  for img, lb in test_dataloader:\n",
        "    embed = model_2(img.to(device).view(-1, 784))\n",
        "    lt_embed.append(embed.cpu())\n",
        "    lt_lb.append(lb)\n",
        "    ln+=len(img)\n",
        "    if(ln>=1000):\n",
        "      break\n",
        "embed_tensor = torch.cat(lt_embed)\n",
        "label_tensor = torch.cat(lt_lb)"
      ],
      "metadata": {
        "id": "tiXlsr8T3M2Y"
      },
      "execution_count": 81,
      "outputs": []
    },
    {
      "cell_type": "code",
      "source": [
        "tsne = TSNE(n_components=2, random_state=0)\n",
        "\n",
        "tsne_data = tsne.fit_transform(embed_tensor)"
      ],
      "metadata": {
        "colab": {
          "base_uri": "https://localhost:8080/"
        },
        "id": "FH2h1hUJ3Tah",
        "outputId": "8a00dece-1d96-4746-b7aa-5907e2d155cd"
      },
      "execution_count": 82,
      "outputs": [
        {
          "output_type": "stream",
          "name": "stderr",
          "text": [
            "/usr/local/lib/python3.8/dist-packages/sklearn/manifold/_t_sne.py:780: FutureWarning: The default initialization in TSNE will change from 'random' to 'pca' in 1.2.\n",
            "  warnings.warn(\n",
            "/usr/local/lib/python3.8/dist-packages/sklearn/manifold/_t_sne.py:790: FutureWarning: The default learning rate in TSNE will change from 200.0 to 'auto' in 1.2.\n",
            "  warnings.warn(\n"
          ]
        }
      ]
    },
    {
      "cell_type": "code",
      "source": [
        "scatter_x = tsne_data[:,0]\n",
        "scatter_y = tsne_data[:,1]\n",
        "group = label_tensor\n",
        "\n",
        "fig, ax = plt.subplots(figsize=(7, 7))\n",
        "for g in np.unique(group):\n",
        "    ix = np.where(group == g)\n",
        "    ax.scatter(scatter_x[ix], scatter_y[ix],  label = g)\n",
        "ax.legend()\n",
        "plt.show()"
      ],
      "metadata": {
        "colab": {
          "base_uri": "https://localhost:8080/",
          "height": 428
        },
        "id": "H7Bt1dHG3WRx",
        "outputId": "91b21547-49b8-4f44-d765-4f22308be599"
      },
      "execution_count": 83,
      "outputs": [
        {
          "output_type": "display_data",
          "data": {
            "text/plain": [
              "<Figure size 504x504 with 1 Axes>"
            ],
            "image/png": "[encoded data removed]"
          },
          "metadata": {
            "needs_background": "light"
          }
        }
      ]
    },
    {
      "cell_type": "code",
      "source": [],
      "metadata": {
        "id": "SWrm34B93Y0p"
      },
      "execution_count": 83,
      "outputs": []
    }
  ]
}