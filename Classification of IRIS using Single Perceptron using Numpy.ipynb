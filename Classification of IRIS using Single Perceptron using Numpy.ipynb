{
  "nbformat": 4,
  "nbformat_minor": 0,
  "metadata": {
    "colab": {
      "provenance": []
    },
    "kernelspec": {
      "name": "python3",
      "display_name": "Python 3"
    },
    "language_info": {
      "name": "python"
    }
  },
  "cells": [
    {
      "cell_type": "code",
      "execution_count": null,
      "metadata": {
        "id": "Qw8jnwgnlSl8"
      },
      "outputs": [],
      "source": [
        "from sklearn.datasets import load_iris\n",
        "import numpy as np\n",
        "import matplotlib.pyplot as plt\n"
      ]
    },
    {
      "cell_type": "code",
      "source": [
        "iris_data= load_iris()"
      ],
      "metadata": {
        "id": "9nnUVSAvx0Ok"
      },
      "execution_count": null,
      "outputs": []
    },
    {
      "cell_type": "code",
      "source": [
        "print(iris_data.feature_names)"
      ],
      "metadata": {
        "colab": {
          "base_uri": "https://localhost:8080/"
        },
        "id": "UtgsHfXG6el_",
        "outputId": "56d234e9-e661-4a50-a40a-b26f346a4574"
      },
      "execution_count": null,
      "outputs": [
        {
          "output_type": "stream",
          "name": "stdout",
          "text": [
            "['sepal length (cm)', 'sepal width (cm)', 'petal length (cm)', 'petal width (cm)']\n"
          ]
        }
      ]
    },
    {
      "cell_type": "code",
      "source": [
        "print(iris_data.target_names)"
      ],
      "metadata": {
        "colab": {
          "base_uri": "https://localhost:8080/"
        },
        "id": "wPkBQbuz6iXU",
        "outputId": "132e15a9-95be-4e52-fb56-f19addfc7760"
      },
      "execution_count": null,
      "outputs": [
        {
          "output_type": "stream",
          "name": "stdout",
          "text": [
            "['setosa' 'versicolor' 'virginica']\n"
          ]
        }
      ]
    },
    {
      "cell_type": "code",
      "source": [
        "x = iris_data.data\n",
        "y = iris_data.target\n",
        "print(x.shape,y.shape)"
      ],
      "metadata": {
        "colab": {
          "base_uri": "https://localhost:8080/"
        },
        "id": "zGLD6JvV6rwr",
        "outputId": "2ad17a00-58c8-46f8-ec6f-845656a96191"
      },
      "execution_count": null,
      "outputs": [
        {
          "output_type": "stream",
          "name": "stdout",
          "text": [
            "(150, 4) (150,)\n"
          ]
        }
      ]
    },
    {
      "cell_type": "code",
      "source": [
        "x[:5]"
      ],
      "metadata": {
        "colab": {
          "base_uri": "https://localhost:8080/"
        },
        "id": "sF_Ih2Mi7je_",
        "outputId": "792ec7fb-1672-4a8e-9414-1feb3f991748"
      },
      "execution_count": null,
      "outputs": [
        {
          "output_type": "execute_result",
          "data": {
            "text/plain": [
              "array([[5.1, 3.5, 1.4, 0.2],\n",
              "       [4.9, 3. , 1.4, 0.2],\n",
              "       [4.7, 3.2, 1.3, 0.2],\n",
              "       [4.6, 3.1, 1.5, 0.2],\n",
              "       [5. , 3.6, 1.4, 0.2]])"
            ]
          },
          "metadata": {},
          "execution_count": 24
        }
      ]
    },
    {
      "cell_type": "code",
      "source": [
        "y[:5]"
      ],
      "metadata": {
        "colab": {
          "base_uri": "https://localhost:8080/"
        },
        "id": "AGeUgA3I7xza",
        "outputId": "e1381eda-89c1-4bf2-817f-66e2379c0ce0"
      },
      "execution_count": null,
      "outputs": [
        {
          "output_type": "execute_result",
          "data": {
            "text/plain": [
              "array([0, 0, 0, 0, 0])"
            ]
          },
          "metadata": {},
          "execution_count": 25
        }
      ]
    },
    {
      "cell_type": "code",
      "source": [
        "np.unique(y)"
      ],
      "metadata": {
        "colab": {
          "base_uri": "https://localhost:8080/"
        },
        "id": "93ws4Cy18Nj3",
        "outputId": "e714a242-50bb-4628-8c1d-01321d826d48"
      },
      "execution_count": null,
      "outputs": [
        {
          "output_type": "execute_result",
          "data": {
            "text/plain": [
              "array([0, 1, 2])"
            ]
          },
          "metadata": {},
          "execution_count": 26
        }
      ]
    },
    {
      "cell_type": "code",
      "source": [
        "mask= np.where((y==0)|(y==1))\n",
        "x = x[mask]\n",
        "y= y[mask]"
      ],
      "metadata": {
        "id": "jJc4nZtz9-1j"
      },
      "execution_count": null,
      "outputs": []
    },
    {
      "cell_type": "code",
      "source": [
        "print(x.shape,y.shape)"
      ],
      "metadata": {
        "colab": {
          "base_uri": "https://localhost:8080/"
        },
        "id": "aJs2iEq78YDX",
        "outputId": "530544ba-81a4-49bb-cdbf-062907ae2ca1"
      },
      "execution_count": null,
      "outputs": [
        {
          "output_type": "stream",
          "name": "stdout",
          "text": [
            "(100, 4) (100,)\n"
          ]
        }
      ]
    },
    {
      "cell_type": "code",
      "source": [
        "setosa = x[(np.where(y==0))]\n",
        "versicolor = x[np.where(y==1)]\n",
        "virginica = x[np.where(y==2)]"
      ],
      "metadata": {
        "id": "CAN-ubxB9FCL"
      },
      "execution_count": null,
      "outputs": []
    },
    {
      "cell_type": "code",
      "source": [
        "plt.scatter(setosa[:,0],setosa[:,1],color='r',label='setosa')\n",
        "plt.scatter(versicolor[:,0],versicolor[:,1],color='b',label='versicolor')\n",
        "plt.scatter(virginica[:,0],virginica[:,1],color='g',label='virginica')\n",
        "plt.xlabel('sepal length')\n",
        "plt.ylabel('petal length')\n",
        "plt.legend()"
      ],
      "metadata": {
        "colab": {
          "base_uri": "https://localhost:8080/",
          "height": 299
        },
        "id": "EPBGAHsL-y18",
        "outputId": "ab0be443-371d-4c93-997f-dfbb171eb08e"
      },
      "execution_count": null,
      "outputs": [
        {
          "output_type": "execute_result",
          "data": {
            "text/plain": [
              "<matplotlib.legend.Legend at 0x7f8b2b9c4910>"
            ]
          },
          "metadata": {},
          "execution_count": 30
        },
        {
          "output_type": "display_data",
          "data": {
            "text/plain": [
              "<Figure size 432x288 with 1 Axes>"
            ],
            "image/png": "[encoded data removed]"
          },
          "metadata": {
            "needs_background": "light"
          }
        }
      ]
    },
    {
      "cell_type": "code",
      "source": [
        "setosa"
      ],
      "metadata": {
        "colab": {
          "base_uri": "https://localhost:8080/"
        },
        "id": "Honv42c1Alb7",
        "outputId": "08a8870d-4a3e-4677-9780-69a18cdd62d7"
      },
      "execution_count": null,
      "outputs": [
        {
          "output_type": "execute_result",
          "data": {
            "text/plain": [
              "array([[5.1, 3.5, 1.4, 0.2],\n",
              "       [4.9, 3. , 1.4, 0.2],\n",
              "       [4.7, 3.2, 1.3, 0.2],\n",
              "       [4.6, 3.1, 1.5, 0.2],\n",
              "       [5. , 3.6, 1.4, 0.2],\n",
              "       [5.4, 3.9, 1.7, 0.4],\n",
              "       [4.6, 3.4, 1.4, 0.3],\n",
              "       [5. , 3.4, 1.5, 0.2],\n",
              "       [4.4, 2.9, 1.4, 0.2],\n",
              "       [4.9, 3.1, 1.5, 0.1],\n",
              "       [5.4, 3.7, 1.5, 0.2],\n",
              "       [4.8, 3.4, 1.6, 0.2],\n",
              "       [4.8, 3. , 1.4, 0.1],\n",
              "       [4.3, 3. , 1.1, 0.1],\n",
              "       [5.8, 4. , 1.2, 0.2],\n",
              "       [5.7, 4.4, 1.5, 0.4],\n",
              "       [5.4, 3.9, 1.3, 0.4],\n",
              "       [5.1, 3.5, 1.4, 0.3],\n",
              "       [5.7, 3.8, 1.7, 0.3],\n",
              "       [5.1, 3.8, 1.5, 0.3],\n",
              "       [5.4, 3.4, 1.7, 0.2],\n",
              "       [5.1, 3.7, 1.5, 0.4],\n",
              "       [4.6, 3.6, 1. , 0.2],\n",
              "       [5.1, 3.3, 1.7, 0.5],\n",
              "       [4.8, 3.4, 1.9, 0.2],\n",
              "       [5. , 3. , 1.6, 0.2],\n",
              "       [5. , 3.4, 1.6, 0.4],\n",
              "       [5.2, 3.5, 1.5, 0.2],\n",
              "       [5.2, 3.4, 1.4, 0.2],\n",
              "       [4.7, 3.2, 1.6, 0.2],\n",
              "       [4.8, 3.1, 1.6, 0.2],\n",
              "       [5.4, 3.4, 1.5, 0.4],\n",
              "       [5.2, 4.1, 1.5, 0.1],\n",
              "       [5.5, 4.2, 1.4, 0.2],\n",
              "       [4.9, 3.1, 1.5, 0.2],\n",
              "       [5. , 3.2, 1.2, 0.2],\n",
              "       [5.5, 3.5, 1.3, 0.2],\n",
              "       [4.9, 3.6, 1.4, 0.1],\n",
              "       [4.4, 3. , 1.3, 0.2],\n",
              "       [5.1, 3.4, 1.5, 0.2],\n",
              "       [5. , 3.5, 1.3, 0.3],\n",
              "       [4.5, 2.3, 1.3, 0.3],\n",
              "       [4.4, 3.2, 1.3, 0.2],\n",
              "       [5. , 3.5, 1.6, 0.6],\n",
              "       [5.1, 3.8, 1.9, 0.4],\n",
              "       [4.8, 3. , 1.4, 0.3],\n",
              "       [5.1, 3.8, 1.6, 0.2],\n",
              "       [4.6, 3.2, 1.4, 0.2],\n",
              "       [5.3, 3.7, 1.5, 0.2],\n",
              "       [5. , 3.3, 1.4, 0.2]])"
            ]
          },
          "metadata": {},
          "execution_count": 31
        }
      ]
    },
    {
      "cell_type": "code",
      "source": [
        "print(x.shape,y.shape)"
      ],
      "metadata": {
        "colab": {
          "base_uri": "https://localhost:8080/"
        },
        "id": "9PZr8KuvB2EH",
        "outputId": "d958cbb1-d895-460a-c4ff-ed51d3b1db58"
      },
      "execution_count": null,
      "outputs": [
        {
          "output_type": "stream",
          "name": "stdout",
          "text": [
            "(100, 4) (100,)\n"
          ]
        }
      ]
    },
    {
      "cell_type": "code",
      "source": [
        "import sys\n",
        "class Perceptron(object):\n",
        "  def __init__(self,input_dim):\n",
        "    self.weights = np.random.normal(loc=0.0, scale= 1.0, size=input_dim)\n",
        "    self.bias = np.random.normal(loc=0.0, scale=1.0, size=1)\n",
        "\n",
        "  def activation(self,pred):\n",
        "      return np.where(pred> 0, 1, 0)\n",
        "\n",
        "  def predict(self, data):\n",
        "    return self.activation(np.dot(data, self.weights.T))\n",
        "\n",
        "  def train(self,input_data, targets, epochs, lr= 0.01):\n",
        "    losses = []\n",
        "    for e in range(1,epochs+1):\n",
        "      epoch_loss = 0\n",
        "      for data, target in zip(input_data, targets):\n",
        "        pred = self.predict(data)\n",
        "        error = target - pred\n",
        "        update = lr * error\n",
        "        epoch_loss += error **2\n",
        "        self.weights +=  update * data\n",
        "        self.bias += update\n",
        "      losses.append(epoch_loss)\n",
        "       \n",
        "      print(f\"\\rEpoch {e}/{epochs},  Loss : {epoch_loss}\", end=\"\")\n",
        "      sys.stdout.flush()\n",
        "    return losses    \n",
        "\n",
        "    "
      ],
      "metadata": {
        "id": "JPnSxSp5jwZW"
      },
      "execution_count": null,
      "outputs": []
    },
    {
      "cell_type": "code",
      "source": [
        "P= Perceptron(input_dim=4)\n",
        "losses = P.train(x,y, epochs=2)"
      ],
      "metadata": {
        "colab": {
          "base_uri": "https://localhost:8080/"
        },
        "id": "Y3tk1HfPoX8i",
        "outputId": "86fe720d-78ff-44af-f10c-fddb36b1a77f"
      },
      "execution_count": null,
      "outputs": [
        {
          "output_type": "stream",
          "name": "stdout",
          "text": [
            "Epoch 2/2,  Loss : 8"
          ]
        }
      ]
    },
    {
      "cell_type": "code",
      "source": [
        "print(P.weights, P.bias)"
      ],
      "metadata": {
        "id": "nCe0MdH9ox-h",
        "colab": {
          "base_uri": "https://localhost:8080/"
        },
        "outputId": "4f5981b8-af6b-4c70-80b9-6d224cdd562e"
      },
      "execution_count": null,
      "outputs": [
        {
          "output_type": "stream",
          "name": "stdout",
          "text": [
            "[-0.50082588  1.06588481  0.14553518  0.14624514] [-1.48315552]\n"
          ]
        }
      ]
    },
    {
      "cell_type": "markdown",
      "source": [
        "**# Multi-Layer Perceptron**"
      ],
      "metadata": {
        "id": "-0De_F6zObgg"
      }
    },
    {
      "cell_type": "code",
      "source": [
        "from sklearn.datasets import load_iris\n",
        "import numpy as np\n",
        "import matplotlib.pyplot as plt\n"
      ],
      "metadata": {
        "id": "JwgscFwkVl7_"
      },
      "execution_count": null,
      "outputs": []
    },
    {
      "cell_type": "code",
      "source": [
        "iris_data= load_iris()"
      ],
      "metadata": {
        "id": "140X2BajOoWU"
      },
      "execution_count": null,
      "outputs": []
    },
    {
      "cell_type": "code",
      "source": [
        "print(iris_data.feature_names)"
      ],
      "metadata": {
        "colab": {
          "base_uri": "https://localhost:8080/"
        },
        "id": "tfv13zp2OrH6",
        "outputId": "7fab0dc8-bbf0-4acf-98a8-2e2550cb8ee4"
      },
      "execution_count": null,
      "outputs": [
        {
          "output_type": "stream",
          "name": "stdout",
          "text": [
            "['sepal length (cm)', 'sepal width (cm)', 'petal length (cm)', 'petal width (cm)']\n"
          ]
        }
      ]
    },
    {
      "cell_type": "code",
      "source": [
        "print(iris_data.target_names)"
      ],
      "metadata": {
        "colab": {
          "base_uri": "https://localhost:8080/"
        },
        "id": "Z9_4ymGXOwUv",
        "outputId": "12cbfe59-ea73-4e2f-e96e-069cc0b950f9"
      },
      "execution_count": null,
      "outputs": [
        {
          "output_type": "stream",
          "name": "stdout",
          "text": [
            "['setosa' 'versicolor' 'virginica']\n"
          ]
        }
      ]
    },
    {
      "cell_type": "code",
      "source": [
        "x = iris_data.data\n",
        "y = iris_data.target\n",
        "print(x.shape,y.shape)"
      ],
      "metadata": {
        "colab": {
          "base_uri": "https://localhost:8080/"
        },
        "id": "qZUIud4vOzIh",
        "outputId": "ac2c6745-e0a2-44f9-fe53-00787b84c1ae"
      },
      "execution_count": null,
      "outputs": [
        {
          "output_type": "stream",
          "name": "stdout",
          "text": [
            "(150, 4) (150,)\n"
          ]
        }
      ]
    },
    {
      "cell_type": "code",
      "source": [
        "mask= np.where((y==0)|(y==1))\n",
        "x = x[mask]\n",
        "y= y[mask]"
      ],
      "metadata": {
        "id": "lPDDXoX4O-5B"
      },
      "execution_count": null,
      "outputs": []
    },
    {
      "cell_type": "code",
      "source": [
        "setosa = x[(np.where(y==0))]\n",
        "versicolor = x[np.where(y==1)]\n",
        "virginica = x[np.where(y==2)]"
      ],
      "metadata": {
        "id": "gbHjcmpbPGe1"
      },
      "execution_count": null,
      "outputs": []
    },
    {
      "cell_type": "code",
      "source": [
        "plt.scatter(setosa[:,0],setosa[:,1],color='r',label='setosa')\n",
        "plt.scatter(versicolor[:,0],versicolor[:,1],color='b',label='versicolor')\n",
        "plt.scatter(virginica[:,0],virginica[:,1],color='g',label='virginica')\n",
        "plt.xlabel('sepal length')\n",
        "plt.ylabel('petal length')\n",
        "plt.legend()"
      ],
      "metadata": {
        "colab": {
          "base_uri": "https://localhost:8080/",
          "height": 299
        },
        "id": "lIZlhc2DPKw3",
        "outputId": "9fd3f668-e4b1-494a-a680-8b40ff668ae0"
      },
      "execution_count": null,
      "outputs": [
        {
          "output_type": "execute_result",
          "data": {
            "text/plain": [
              "<matplotlib.legend.Legend at 0x7f8b2b4f0fa0>"
            ]
          },
          "metadata": {},
          "execution_count": 43
        },
        {
          "output_type": "display_data",
          "data": {
            "text/plain": [
              "<Figure size 432x288 with 1 Axes>"
            ],
            "image/png": "[encoded data removed]"
          },
          "metadata": {
            "needs_background": "light"
          }
        }
      ]
    },
    {
      "cell_type": "code",
      "source": [],
      "metadata": {
        "id": "q8cwpd-xPNe8"
      },
      "execution_count": null,
      "outputs": []
    },
    {
      "cell_type": "code",
      "source": [
        "def sigmoid(x):\n",
        "  \n",
        "    return 1./(1.+np.exp(-x))"
      ],
      "metadata": {
        "id": "1yNG9LszPR_h"
      },
      "execution_count": null,
      "outputs": []
    },
    {
      "cell_type": "code",
      "source": [
        "def softmax(x):\n",
        "    \n",
        "    exponent = np.exp(x) \n",
        "    return exponent/exponent.sum(axis=1,keepdims=True)"
      ],
      "metadata": {
        "id": "eV0BGAAIVwXS"
      },
      "execution_count": null,
      "outputs": []
    },
    {
      "cell_type": "code",
      "source": [
        "def init_layers(batch_size,layer_sizes):\n",
        "      \n",
        "        hidden_layers = [np.empty((batch_size,layer_size)) for layer_size in layer_sizes]\n",
        "        return hidden_layers"
      ],
      "metadata": {
        "id": "OmB52JYtWO5V"
      },
      "execution_count": null,
      "outputs": []
    },
    {
      "cell_type": "code",
      "source": [
        "def init_weights(layer_sizes):\n",
        "        \n",
        "        weights = list()\n",
        "        for i in range(layer_sizes.shape[0]-1):\n",
        "            weights.append(np.random.uniform(-1,1,size=[layer_sizes[i],layer_sizes[i+1]]))\n",
        "        weights = asarray(self.weights)\n",
        "        return weights"
      ],
      "metadata": {
        "id": "bhQd2YfEXDzc"
      },
      "execution_count": null,
      "outputs": []
    },
    {
      "cell_type": "code",
      "source": [
        "def feed_forward(batch,hidden_layers,weights):\n",
        "    \n",
        "    h_l = batch\n",
        "    hidden_layers[0] = h_l\n",
        "    for i,weight in enumerate(weights):\n",
        "        h_l = sigmoid(h_l.dot(weight))\n",
        "        hidden_layers[i+1]=h_l\n",
        "    output = softmax(hidden_layers[-1])\n",
        "    return output, hidden_layers"
      ],
      "metadata": {
        "id": "PRM4dHcvXKS3"
      },
      "execution_count": null,
      "outputs": []
    },
    {
      "cell_type": "code",
      "source": [
        "def sigmoid_prime(sigmoid_out):\n",
        " h*(1-h)"
      ],
      "metadata": {
        "id": "7ZIlGG3dXR6k"
      },
      "execution_count": null,
      "outputs": []
    },
    {
      "cell_type": "code",
      "source": [
        "def back_prop(output,batch_y,hidden_layers,weights,batch_size,lr):\n",
        "       \n",
        "        delta_t = (output - batch_y)*sigmoid_prime(hidden_layers[-1])\n",
        "        for i in range(1,len(weights)+1):\n",
        "            weights[-i]-=lr*(hidden_layers[-i-1].T.dot(delta_t))/batch_size\n",
        "            delta_t = sigmoid_prime(hidden_layers[-i-1])*(delta_t.dot(weights[-i].T))\n",
        "        return weights"
      ],
      "metadata": {
        "id": "jfwX4tWEXkDE"
      },
      "execution_count": null,
      "outputs": []
    },
    {
      "cell_type": "code",
      "source": [],
      "metadata": {
        "id": "WX04sAnhXtGW"
      },
      "execution_count": null,
      "outputs": []
    }
  ]
}